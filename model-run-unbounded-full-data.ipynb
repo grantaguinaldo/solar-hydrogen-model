{
 "cells": [
  {
   "cell_type": "code",
   "execution_count": 1,
   "id": "fc937e94",
   "metadata": {},
   "outputs": [],
   "source": [
    "import pandas as pd\n",
    "import numpy as np\n",
    "import os\n",
    "import pyomo.environ as en\n",
    "from pyomo.opt import SolverFactory, SolverStatus, TerminationCondition\n",
    "from Electrolyzer_v11 import build_model, GetStaticOutputs\n",
    "from pyomo.util.infeasible import log_infeasible_constraints\n",
    "import logging\n",
    "import matplotlib.pyplot as plt\n",
    "\n",
    "# Run using the TEMOA Environment, but with `pyomo=6.0`\n",
    "\n",
    "#logging.basicConfig(filename='direct_run_2022_01_19_2000_TS.log', level=logging.INFO)"
   ]
  },
  {
   "cell_type": "code",
   "execution_count": 2,
   "id": "4bd0b325",
   "metadata": {},
   "outputs": [],
   "source": [
    "cost_scenario = '2020_AG'\n",
    "cost_scenario_folder = os.path.join('CostScenarios', cost_scenario)\n",
    "\n",
    "StorageData = pd.read_excel(os.path.join(cost_scenario_folder, 'StorageData.xlsx'),index_col=[0])\n",
    "Discount_rate = 0.054  # Discount rate %\n",
    "Lifetime = 20.0  # Lifetime in years\n",
    "# Capital charge factor to annualize investment costs\n",
    "CCF_val = 1/float((Discount_rate+1)/float(Discount_rate)*(1-1/(1+Discount_rate)**Lifetime))  \n",
    "PVData = pd.read_excel(os.path.join(cost_scenario_folder, 'PVData.xlsx'),'Data',index_col=[0]) # PV cost data\n",
    "ElyData = pd.read_excel(os.path.join(cost_scenario_folder, 'ElyData.xlsx'),'Data',index_col=[0]) # Electrolyzer cost data\n",
    "H2StData = pd.read_excel(os.path.join(cost_scenario_folder, 'H2StData.xlsx'),'Data',index_col=[0]) # H2 storage cost data\n",
    "cf_file = '5796_23.65_68.75_tmy.csv' # PV resource availability defined for a single location\n",
    "\n",
    "PVAvail_tmy = pd.read_csv(cf_file,\n",
    "                          index_col=0, \n",
    "                          parse_dates=True,\n",
    "                          header=None,\n",
    "                          squeeze=True)\n",
    "\n",
    " "
   ]
  },
  {
   "cell_type": "code",
   "execution_count": 3,
   "id": "3cadb4b8",
   "metadata": {},
   "outputs": [],
   "source": [
    "productionCommitmentLB = int(np.floor(len(PVAvail_tmy) * .95)) # Minimum requirement for annual plant availability =95%\n",
    "minimumProductionShutdownLength = 12 # Minimum number of hours system has to be turned down\n",
    "P_Electricity = 120.0 #$/MWh # Price of exported grid electricity\n",
    "LMPData = pd.Series(P_Electricity, index=range(len(PVAvail_tmy))) # 8760 x 1 vector of electricity prices"
   ]
  },
  {
   "cell_type": "code",
   "execution_count": 4,
   "id": "47d0e7b2",
   "metadata": {},
   "outputs": [
    {
     "data": {
      "text/plain": [
       "array([0., 0., 0., 0., 0.])"
      ]
     },
     "execution_count": 4,
     "metadata": {},
     "output_type": "execute_result"
    }
   ],
   "source": [
    "#a = np.random.choice(a=PVAvail_tmy.values, size=1000)\n",
    "a = PVAvail_tmy.values\n",
    "a[-5:]"
   ]
  },
  {
   "cell_type": "code",
   "execution_count": 5,
   "id": "f1fac6d0",
   "metadata": {},
   "outputs": [
    {
     "name": "stdout",
     "output_type": "stream",
     "text": [
      "[    0.63] Resetting the tic/toc delta timer\n",
      "[+   0.26] File \"/Users/gta/Desktop/solar-hydrogen-model/Electrolyzer_v11.py\", line 231 in build_model\n",
      "defined parameters 0\n",
      "[+   0.00] File \"/Users/gta/Desktop/solar-hydrogen-model/Electrolyzer_v11.py\", line 237 in build_model\n",
      "defined PV fixcost 0\n",
      "[+   0.00] File \"/Users/gta/Desktop/solar-hydrogen-model/Electrolyzer_v11.py\", line 260 in build_model\n",
      "defined H2 fixcost 0\n",
      "[+   0.08] File \"/Users/gta/Desktop/solar-hydrogen-model/Electrolyzer_v11.py\", line 270 in build_model\n",
      "defined sys variable cost 0\n",
      "[+   0.08] File \"/Users/gta/Desktop/solar-hydrogen-model/Electrolyzer_v11.py\", line 293 in build_model\n",
      "defined objective function 0\n",
      "[+   0.22] File \"/Users/gta/Desktop/solar-hydrogen-model/Electrolyzer_v11.py\", line 307 in build_model\n",
      "defined PV constraints 0\n",
      "[+   0.61] File \"/Users/gta/Desktop/solar-hydrogen-model/Electrolyzer_v11.py\", line 345 in build_model\n",
      "defined storage constraints 0\n",
      "[+   0.90] File \"/Users/gta/Desktop/solar-hydrogen-model/Electrolyzer_v11.py\", line 407 in build_model\n",
      "defined H2 storage constraints 0\n"
     ]
    }
   ],
   "source": [
    "m = build_model(pvavailarray = a,\n",
    "                pricearray = LMPData.values,\n",
    "                dfPVData = PVData,\n",
    "                dfStorData = StorageData,\n",
    "                dfElyData = ElyData,\n",
    "                dfH2StData = H2StData,\n",
    "                CCF = CCF_val,\n",
    "                productionCommitmentLB = productionCommitmentLB,\n",
    "                minimumProductionShutdownLength = minimumProductionShutdownLength)"
   ]
  },
  {
   "cell_type": "code",
   "execution_count": 6,
   "id": "486fc980",
   "metadata": {},
   "outputs": [
    {
     "name": "stdout",
     "output_type": "stream",
     "text": [
      "\n",
      "Welcome to IBM(R) ILOG(R) CPLEX(R) Interactive Optimizer 12.9.0.0\n",
      "  with Simplex, Mixed Integer & Barrier Optimizers\n",
      "5725-A06 5725-A29 5724-Y48 5724-Y49 5724-Y54 5724-Y55 5655-Y21\n",
      "Copyright IBM Corp. 1988, 2019.  All Rights Reserved.\n",
      "\n",
      "Type 'help' for a list of available commands.\n",
      "Type 'help' followed by a command name for more\n",
      "information on commands.\n",
      "\n",
      "CPLEX> Logfile 'cplex.log' closed.\n",
      "Logfile '/var/folders/q5/ny1flrzs6nv9nk5k366w2gtr0000gn/T/tmpc8w1lcba.cplex.log' open.\n",
      "CPLEX> New value for mixed integer optimality gap tolerance: 0.1\n",
      "CPLEX> Problem '/var/folders/q5/ny1flrzs6nv9nk5k366w2gtr0000gn/T/tmppf7qo9og.pyomo.lp' read.\n",
      "Read time = 0.84 sec. (26.47 ticks)\n",
      "CPLEX> Problem name         : /var/folders/q5/ny1flrzs6nv9nk5k366w2gtr0000gn/T/tmppf7qo9og.pyomo.lp\n",
      "Objective sense      : Minimize\n",
      "Variables            :  131423  [Nneg: 122662,  Binary: 8761]\n",
      "Objective nonzeros   :   43812\n",
      "Linear constraints   :  262833  [Less: 192743,  Greater: 1,  Equal: 70089]\n",
      "  Nonzeros           :  705204\n",
      "  RHS nonzeros       :  105134\n",
      "\n",
      "Variables            : Min LB: 0.000000         Max UB: 1.000000       \n",
      "Objective nonzeros   : Min   : 0.01486750       Max   : 142481.7       \n",
      "Linear constraints   :\n",
      "  Nonzeros           : Min   : 0.0008188928     Max   : 4166.667       \n",
      "  RHS nonzeros       : Min   : 1.000000         Max   : 8322.000       \n",
      "CPLEX> CPXPARAM_MIP_Tolerances_MIPGap                   0.10000000000000001\n",
      "Tried aggregator 2 times.\n",
      "MIP Presolve eliminated 22082 rows and 13321 columns.\n",
      "Aggregator did 47192 substitutions.\n",
      "Reduced MIP has 193559 rows, 70910 columns, and 662499 nonzeros.\n",
      "Reduced MIP has 8761 binaries, 0 generals, 0 SOSs, and 0 indicators.\n",
      "Presolve time = 1.47 sec. (467.31 ticks)\n",
      "Found incumbent of value 3.6864798e+12 after 1.82 sec. (767.51 ticks)\n",
      "Probing time = 0.03 sec. (9.38 ticks)\n",
      "Tried aggregator 1 time.\n",
      "Reduced MIP has 193559 rows, 70910 columns, and 662499 nonzeros.\n",
      "Reduced MIP has 8761 binaries, 0 generals, 0 SOSs, and 0 indicators.\n",
      "Presolve time = 0.97 sec. (344.22 ticks)\n",
      "Probing time = 0.03 sec. (10.03 ticks)\n",
      "MIP emphasis: balance optimality and feasibility.\n",
      "MIP search method: dynamic search.\n",
      "Parallel mode: deterministic, using up to 8 threads.\n",
      "Root relaxation solution time = 160.98 sec. (245293.27 ticks)\n",
      "\n",
      "        Nodes                                         Cuts/\n",
      "   Node  Left     Objective  IInf  Best Integer    Best Bound    ItCnt     Gap\n",
      "\n",
      "*     0+    0                       3.68648e+12                            --- \n",
      "      0     0     unbounded         3.68648e+12                 138227     --- \n",
      "\n",
      "Root node processing (before b&c):\n",
      "  Real time             =  163.98 sec. (246585.19 ticks)\n",
      "Parallel b&c, 8 threads:\n",
      "  Real time             =    0.00 sec. (0.00 ticks)\n",
      "  Sync time (average)   =    0.00 sec.\n",
      "  Wait time (average)   =    0.00 sec.\n",
      "                          ------------\n",
      "Total (root+branch&cut) =  163.98 sec. (246585.19 ticks)\n",
      "\n",
      "Solution pool: 2 solutions saved.\n",
      "\n",
      "MIP - Integer unbounded:  Objective =  3.6864798436e+12\n",
      "Current MIP best bound is infinite.\n",
      "Solution time =  163.98 sec.  Iterations = 138227  Nodes = 0\n",
      "Deterministic time = 246585.56 ticks  (1503.71 ticks/sec)\n",
      "\n",
      "CPLEX> Incumbent solution written to file '/var/folders/q5/ny1flrzs6nv9nk5k366w2gtr0000gn/T/tmp9wbh5lv4.cplex.sol'.\n",
      "CPLEX> "
     ]
    },
    {
     "ename": "KeyboardInterrupt",
     "evalue": "",
     "output_type": "error",
     "traceback": [
      "\u001b[0;31m---------------------------------------------------------------------------\u001b[0m",
      "\u001b[0;31mKeyboardInterrupt\u001b[0m                         Traceback (most recent call last)",
      "\u001b[0;32m/var/folders/q5/ny1flrzs6nv9nk5k366w2gtr0000gn/T/ipykernel_21338/111576565.py\u001b[0m in \u001b[0;36m<module>\u001b[0;34m\u001b[0m\n\u001b[1;32m      3\u001b[0m \u001b[0;31m#opt.options['timelimit'] = 60*60*1\u001b[0m\u001b[0;34m\u001b[0m\u001b[0;34m\u001b[0m\u001b[0;34m\u001b[0m\u001b[0m\n\u001b[1;32m      4\u001b[0m \u001b[0mresults\u001b[0m \u001b[0;34m=\u001b[0m \u001b[0mopt\u001b[0m\u001b[0;34m.\u001b[0m\u001b[0msolve\u001b[0m\u001b[0;34m(\u001b[0m\u001b[0mm\u001b[0m\u001b[0;34m,\u001b[0m \u001b[0mtee\u001b[0m \u001b[0;34m=\u001b[0m \u001b[0;32mTrue\u001b[0m\u001b[0;34m)\u001b[0m\u001b[0;34m\u001b[0m\u001b[0;34m\u001b[0m\u001b[0m\n\u001b[0;32m----> 5\u001b[0;31m \u001b[0mlog_infeasible_constraints\u001b[0m\u001b[0;34m(\u001b[0m\u001b[0mm\u001b[0m\u001b[0;34m,\u001b[0m \u001b[0mlog_expression\u001b[0m\u001b[0;34m=\u001b[0m\u001b[0;32mTrue\u001b[0m\u001b[0;34m,\u001b[0m \u001b[0mlog_variables\u001b[0m\u001b[0;34m=\u001b[0m\u001b[0;32mTrue\u001b[0m\u001b[0;34m)\u001b[0m\u001b[0;34m\u001b[0m\u001b[0;34m\u001b[0m\u001b[0m\n\u001b[0m",
      "\u001b[0;32m/opt/miniconda3/envs/pyomo-py3/lib/python3.7/site-packages/pyomo/util/infeasible.py\u001b[0m in \u001b[0;36mlog_infeasible_constraints\u001b[0;34m(m, tol, logger, log_expression, log_variables)\u001b[0m\n\u001b[1;32m     68\u001b[0m             \u001b[0;32mcontinue\u001b[0m\u001b[0;34m\u001b[0m\u001b[0;34m\u001b[0m\u001b[0m\n\u001b[1;32m     69\u001b[0m \u001b[0;34m\u001b[0m\u001b[0m\n\u001b[0;32m---> 70\u001b[0;31m         \u001b[0moutput_dict\u001b[0m \u001b[0;34m=\u001b[0m \u001b[0mdict\u001b[0m\u001b[0;34m(\u001b[0m\u001b[0mname\u001b[0m\u001b[0;34m=\u001b[0m\u001b[0mconstr\u001b[0m\u001b[0;34m.\u001b[0m\u001b[0mname\u001b[0m\u001b[0;34m)\u001b[0m\u001b[0;34m\u001b[0m\u001b[0;34m\u001b[0m\u001b[0m\n\u001b[0m\u001b[1;32m     71\u001b[0m \u001b[0;34m\u001b[0m\u001b[0m\n\u001b[1;32m     72\u001b[0m         \u001b[0mlog_template\u001b[0m \u001b[0;34m=\u001b[0m \u001b[0;34m\"CONSTR {name}: {lb_value}{lb_operator}{body_value}{ub_operator}{ub_value}\"\u001b[0m\u001b[0;34m\u001b[0m\u001b[0;34m\u001b[0m\u001b[0m\n",
      "\u001b[0;32m/opt/miniconda3/envs/pyomo-py3/lib/python3.7/site-packages/pyomo/core/base/component.py\u001b[0m in \u001b[0;36mname\u001b[0;34m(self)\u001b[0m\n\u001b[1;32m    274\u001b[0m     \u001b[0;32mdef\u001b[0m \u001b[0mname\u001b[0m\u001b[0;34m(\u001b[0m\u001b[0mself\u001b[0m\u001b[0;34m)\u001b[0m\u001b[0;34m:\u001b[0m\u001b[0;34m\u001b[0m\u001b[0;34m\u001b[0m\u001b[0m\n\u001b[1;32m    275\u001b[0m         \u001b[0;34m\"\"\"Get the fully qualifed component name.\"\"\"\u001b[0m\u001b[0;34m\u001b[0m\u001b[0;34m\u001b[0m\u001b[0m\n\u001b[0;32m--> 276\u001b[0;31m         \u001b[0;32mreturn\u001b[0m \u001b[0mself\u001b[0m\u001b[0;34m.\u001b[0m\u001b[0mgetname\u001b[0m\u001b[0;34m(\u001b[0m\u001b[0mfully_qualified\u001b[0m\u001b[0;34m=\u001b[0m\u001b[0;32mTrue\u001b[0m\u001b[0;34m)\u001b[0m\u001b[0;34m\u001b[0m\u001b[0;34m\u001b[0m\u001b[0m\n\u001b[0m\u001b[1;32m    277\u001b[0m \u001b[0;34m\u001b[0m\u001b[0m\n\u001b[1;32m    278\u001b[0m     \u001b[0;31m# Adding a setter here to help users adapt to the new\u001b[0m\u001b[0;34m\u001b[0m\u001b[0;34m\u001b[0m\u001b[0;34m\u001b[0m\u001b[0m\n",
      "\u001b[0;32m/opt/miniconda3/envs/pyomo-py3/lib/python3.7/site-packages/pyomo/core/base/component.py\u001b[0m in \u001b[0;36mgetname\u001b[0;34m(self, fully_qualified, name_buffer, relative_to)\u001b[0m\n\u001b[1;32m    917\u001b[0m             \u001b[0;31m# more expensive than if a buffer is provided.\u001b[0m\u001b[0;34m\u001b[0m\u001b[0;34m\u001b[0m\u001b[0;34m\u001b[0m\u001b[0m\n\u001b[1;32m    918\u001b[0m             \u001b[0;31m#\u001b[0m\u001b[0;34m\u001b[0m\u001b[0;34m\u001b[0m\u001b[0;34m\u001b[0m\u001b[0m\n\u001b[0;32m--> 919\u001b[0;31m             \u001b[0;32mfor\u001b[0m \u001b[0midx\u001b[0m\u001b[0;34m,\u001b[0m \u001b[0mobj\u001b[0m \u001b[0;32min\u001b[0m \u001b[0mc\u001b[0m\u001b[0;34m.\u001b[0m\u001b[0mitems\u001b[0m\u001b[0;34m(\u001b[0m\u001b[0;34m)\u001b[0m\u001b[0;34m:\u001b[0m\u001b[0;34m\u001b[0m\u001b[0;34m\u001b[0m\u001b[0m\n\u001b[0m\u001b[1;32m    920\u001b[0m                 \u001b[0;32mif\u001b[0m \u001b[0mobj\u001b[0m \u001b[0;32mis\u001b[0m \u001b[0mself\u001b[0m\u001b[0;34m:\u001b[0m\u001b[0;34m\u001b[0m\u001b[0;34m\u001b[0m\u001b[0m\n\u001b[1;32m    921\u001b[0m                     \u001b[0;32mreturn\u001b[0m \u001b[0mbase\u001b[0m \u001b[0;34m+\u001b[0m \u001b[0mindex_repr\u001b[0m\u001b[0;34m(\u001b[0m\u001b[0midx\u001b[0m\u001b[0;34m)\u001b[0m\u001b[0;34m\u001b[0m\u001b[0;34m\u001b[0m\u001b[0m\n",
      "\u001b[0;32m/opt/miniconda3/envs/pyomo-py3/lib/python3.7/site-packages/pyomo/core/base/indexed_component.py\u001b[0m in \u001b[0;36mitems\u001b[0;34m(self)\u001b[0m\n\u001b[1;32m    369\u001b[0m     \u001b[0;32mdef\u001b[0m \u001b[0mitems\u001b[0m\u001b[0;34m(\u001b[0m\u001b[0mself\u001b[0m\u001b[0;34m)\u001b[0m\u001b[0;34m:\u001b[0m\u001b[0;34m\u001b[0m\u001b[0;34m\u001b[0m\u001b[0m\n\u001b[1;32m    370\u001b[0m         \u001b[0;34m\"\"\"Return an iterator of (index,data) tuples from the dictionary\"\"\"\u001b[0m\u001b[0;34m\u001b[0m\u001b[0;34m\u001b[0m\u001b[0m\n\u001b[0;32m--> 371\u001b[0;31m         \u001b[0;32mreturn\u001b[0m \u001b[0;34m[\u001b[0m \u001b[0;34m(\u001b[0m\u001b[0mx\u001b[0m\u001b[0;34m,\u001b[0m \u001b[0mself\u001b[0m\u001b[0;34m[\u001b[0m\u001b[0mx\u001b[0m\u001b[0;34m]\u001b[0m\u001b[0;34m)\u001b[0m \u001b[0;32mfor\u001b[0m \u001b[0mx\u001b[0m \u001b[0;32min\u001b[0m \u001b[0mself\u001b[0m \u001b[0;34m]\u001b[0m\u001b[0;34m\u001b[0m\u001b[0;34m\u001b[0m\u001b[0m\n\u001b[0m\u001b[1;32m    372\u001b[0m \u001b[0;34m\u001b[0m\u001b[0m\n\u001b[1;32m    373\u001b[0m     \u001b[0;32mdef\u001b[0m \u001b[0m__getitem__\u001b[0m\u001b[0;34m(\u001b[0m\u001b[0mself\u001b[0m\u001b[0;34m,\u001b[0m \u001b[0mindex\u001b[0m\u001b[0;34m)\u001b[0m\u001b[0;34m:\u001b[0m\u001b[0;34m\u001b[0m\u001b[0;34m\u001b[0m\u001b[0m\n",
      "\u001b[0;32m/opt/miniconda3/envs/pyomo-py3/lib/python3.7/site-packages/pyomo/core/base/indexed_component.py\u001b[0m in \u001b[0;36m<listcomp>\u001b[0;34m(.0)\u001b[0m\n\u001b[1;32m    369\u001b[0m     \u001b[0;32mdef\u001b[0m \u001b[0mitems\u001b[0m\u001b[0;34m(\u001b[0m\u001b[0mself\u001b[0m\u001b[0;34m)\u001b[0m\u001b[0;34m:\u001b[0m\u001b[0;34m\u001b[0m\u001b[0;34m\u001b[0m\u001b[0m\n\u001b[1;32m    370\u001b[0m         \u001b[0;34m\"\"\"Return an iterator of (index,data) tuples from the dictionary\"\"\"\u001b[0m\u001b[0;34m\u001b[0m\u001b[0;34m\u001b[0m\u001b[0m\n\u001b[0;32m--> 371\u001b[0;31m         \u001b[0;32mreturn\u001b[0m \u001b[0;34m[\u001b[0m \u001b[0;34m(\u001b[0m\u001b[0mx\u001b[0m\u001b[0;34m,\u001b[0m \u001b[0mself\u001b[0m\u001b[0;34m[\u001b[0m\u001b[0mx\u001b[0m\u001b[0;34m]\u001b[0m\u001b[0;34m)\u001b[0m \u001b[0;32mfor\u001b[0m \u001b[0mx\u001b[0m \u001b[0;32min\u001b[0m \u001b[0mself\u001b[0m \u001b[0;34m]\u001b[0m\u001b[0;34m\u001b[0m\u001b[0;34m\u001b[0m\u001b[0m\n\u001b[0m\u001b[1;32m    372\u001b[0m \u001b[0;34m\u001b[0m\u001b[0m\n\u001b[1;32m    373\u001b[0m     \u001b[0;32mdef\u001b[0m \u001b[0m__getitem__\u001b[0m\u001b[0;34m(\u001b[0m\u001b[0mself\u001b[0m\u001b[0;34m,\u001b[0m \u001b[0mindex\u001b[0m\u001b[0;34m)\u001b[0m\u001b[0;34m:\u001b[0m\u001b[0;34m\u001b[0m\u001b[0;34m\u001b[0m\u001b[0m\n",
      "\u001b[0;32m/opt/miniconda3/envs/pyomo-py3/lib/python3.7/site-packages/pyomo/core/base/indexed_component.py\u001b[0m in \u001b[0;36m__getitem__\u001b[0;34m(self, index)\u001b[0m\n\u001b[1;32m    375\u001b[0m         \u001b[0mThis\u001b[0m \u001b[0mmethod\u001b[0m \u001b[0mreturns\u001b[0m \u001b[0mthe\u001b[0m \u001b[0mdata\u001b[0m \u001b[0mcorresponding\u001b[0m \u001b[0mto\u001b[0m \u001b[0mthe\u001b[0m \u001b[0mgiven\u001b[0m \u001b[0mindex\u001b[0m\u001b[0;34m.\u001b[0m\u001b[0;34m\u001b[0m\u001b[0;34m\u001b[0m\u001b[0m\n\u001b[1;32m    376\u001b[0m         \"\"\"\n\u001b[0;32m--> 377\u001b[0;31m         \u001b[0;32mif\u001b[0m \u001b[0mself\u001b[0m\u001b[0;34m.\u001b[0m\u001b[0m_constructed\u001b[0m \u001b[0;32mis\u001b[0m \u001b[0;32mFalse\u001b[0m\u001b[0;34m:\u001b[0m\u001b[0;34m\u001b[0m\u001b[0;34m\u001b[0m\u001b[0m\n\u001b[0m\u001b[1;32m    378\u001b[0m             \u001b[0mself\u001b[0m\u001b[0;34m.\u001b[0m\u001b[0m_not_constructed_error\u001b[0m\u001b[0;34m(\u001b[0m\u001b[0mindex\u001b[0m\u001b[0;34m)\u001b[0m\u001b[0;34m\u001b[0m\u001b[0;34m\u001b[0m\u001b[0m\n\u001b[1;32m    379\u001b[0m \u001b[0;34m\u001b[0m\u001b[0m\n",
      "\u001b[0;31mKeyboardInterrupt\u001b[0m: "
     ]
    }
   ],
   "source": [
    "opt = SolverFactory('cplex')\n",
    "opt.options['mipgap'] = 0.1\n",
    "#opt.options['timelimit'] = 60*60*1\n",
    "results = opt.solve(m, tee = True)\n",
    "log_infeasible_constraints(m, log_expression=True, log_variables=True)"
   ]
  },
  {
   "cell_type": "code",
   "execution_count": null,
   "id": "4ea1c603",
   "metadata": {},
   "outputs": [],
   "source": [
    "vPVInstalledMW = [en.value(m.vPVInstalledMW) for each in range(1, len(a))]\n",
    "vPVtoDCPow = [en.value(each) for each in [m.vPVtoDCPow[each] for each in range(1, len(a))]]\n",
    "vPVOutput = [en.value(each) for each in [m.vPVOutput[each] for each in range(1, len(a))]]\n",
    "vInvInstalledMW = [en.value(m.vInvInstalledMW) for each in range(1, len(a))]\n",
    "vElyInstalledMW = [en.value(m.vElyInstalledMW) for each in range(1, len(a))]\n",
    "vDCPowtoEly = [en.value(each) for each in [m.vDCPowtoEly[each] for each in range(1, len(a))]]\n",
    "vCompInstalledMW = [en.value(m.vCompInstalledMW) for each in range(1, len(a))]\n",
    "vH2StInstalledNumber = [en.value(m.vH2StInstalledNumber) for each in range(1, len(a))]\n",
    "vH2flowProd = [en.value(each) for each in [m.vH2flowProd[each] for each in range(1, len(a))]]\n",
    "vH2flowStorage = [en.value(each) for each in [m.vH2flowStorage[each] for each in range(1, len(a))]]\n",
    "vDCPowtoInv = [en.value(each) for each in [m.vDCPowtoInv[each] for each in range(1, len(a))]]\n",
    "vACPowtoComp = [en.value(each) for each in [m.vACPowtoComp[each] for each in range(1, len(a))]]\n",
    "vACPowtoGrid = [en.value(each) for each in [m.vACPowtoGrid[each] for each in range(1, len(a))]]\n",
    "vH2StStatekg = [en.value(each) for each in [m.vH2StStatekg[each] for each in range(1, len(a))]]\n",
    "vH2StflowProd = [en.value(each) for each in [m.vH2StflowProd[each] for each in range(1, len(a))]]\n",
    "vStInstalledMWh = [en.value(m.vStInstalledMWh['es1']) for each in range(1, len(a))]\n",
    "vStInstalledMW = [en.value(m.vStInstalledMW['es1']) for each in range(1, len(a))]\n",
    "vStDischarge = [en.value(each) for each in [m.vStDischarge[each, 'es1']for each in range(1, len(a))]]\n",
    "vStCharge = [en.value(each) for each in [m.vStCharge[each, 'es1']for each in range(1, len(a))]]\n",
    "vStSoC = [en.value(each) for each in [m.vStSoC[each, 'es1']for each in range(1, len(a))]]\n",
    "vTotalH2Output = [en.value(each) for each in [m.vTotalH2Output[each] for each in range(1, len(a))]]\n",
    "vH2PlantOutputSlack = [en.value(each) for each in [m.vH2PlantOutputSlack[each] for each in range(1, len(a))]]\n",
    "vProductionCommitment = [en.value(each) for each in [m.vProductionCommitment[each]for each in range(1, len(a))]]\n",
    "#vH2FlowtoSales = [en.value(each) for each in [m.vH2FlowtoSales[each] for each in range(1, len(a))]]\n",
    "pPVCapFactor = [en.value(m.pPVCapFactor[each]) for each in range(1, len(a))]\n",
    "pGridElecPrice = [en.value(m.pGridElecPrice[each]) for each in range(1, len(a))]\n",
    "\n",
    "var_dict = {'vTotalH2Output': vTotalH2Output, \n",
    "            'vH2flowProd': vH2flowProd,\n",
    "            'vH2StflowProd': vH2StflowProd,\n",
    "            'vH2flowStorage': vH2flowStorage,\n",
    "            'vPVInstalledMW': vPVInstalledMW,\n",
    "            'vPVtoDCPow': vPVtoDCPow,\n",
    "            'vPVOutput': vPVOutput,\n",
    "            'vInvInstalledMW':vInvInstalledMW, \n",
    "            'vElyInstalledMW': vElyInstalledMW,\n",
    "            'vDCPowtoEly': vDCPowtoEly,\n",
    "            'vCompInstalledMW': vCompInstalledMW,\n",
    "            'vH2StInstalledNumber': vH2StInstalledNumber,\n",
    "            'vDCPowtoInv': vDCPowtoInv,\n",
    "            'vACPowtoComp': vACPowtoComp,\n",
    "            'vACPowtoGrid': vACPowtoGrid,\n",
    "            'vH2StStatekg': vH2StStatekg,\n",
    "            'vStInstalledMWh': vStInstalledMWh,\n",
    "            'vStInstalledMW': vStInstalledMW,\n",
    "            'vStDischarge': vStDischarge, \n",
    "            'vStCharge': vStCharge, \n",
    "            'vStSoC': vStSoC, \n",
    "            'vH2PlantOutputSlack': vH2PlantOutputSlack, \n",
    "            'vProductionCommitment': vProductionCommitment,\n",
    "            'pPVCapFactor': pPVCapFactor, \n",
    "            'pGridElecPrice': pGridElecPrice}\n",
    "\n",
    "df_DecisionVar = pd.DataFrame(var_dict)\n"
   ]
  },
  {
   "cell_type": "code",
   "execution_count": null,
   "id": "390349ab",
   "metadata": {},
   "outputs": [],
   "source": [
    "pCCF = en.value(m.pCCF)\n",
    "pH2DesignFlowRate = en.value(m.pH2DesignFlowRate)\n",
    "pCFPlantLB = en.value(m.pCFPlantLB)\n",
    "pH2LHV = en.value(m.pH2LHV)\n",
    "pProductionSlackCost = en.value(m.pProductionSlackCost)\n",
    "pCapCostPV = en.value(m.pCapCostPV)\n",
    "pFOMCostPV = en.value(m.pFOMCostPV)\n",
    "pVOMCostPV = en.value(m.pVOMCostPV)\n",
    "pInvEff = en.value(m.pInvEff)\n",
    "pCapCostInv = en.value(m.pCapCostInv)\n",
    "pStEffChg = en.value(m.pStEffChg['es1'])\n",
    "pStEffDischg = en.value(m.pStEffDischg['es1'])\n",
    "pCapCostPowSt = en.value(m.pCapCostPowSt['es1'])\n",
    "pCapCostEnergySt = en.value(m.pCapCostEnergySt['es1'])\n",
    "pStEffChg = en.value(m.pStEffChg['es1'])\n",
    "pFOMCostSt = en.value(m.pFOMCostSt['es1'])\n",
    "pVOMCostSt = en.value(m.pVOMCostSt['es1'])\n",
    "pDur_UB = en.value(m.pDur_UB['es1'])\n",
    "pElySpecPower = en.value(m.pElySpecPower)\n",
    "pCapCostEly = en.value(m.pCapCostEly)\n",
    "pFOMCostEly = en.value(m.pFOMCostEly)\n",
    "pVOMCostEly = en.value(m.pVOMCostEly)\n",
    "pFeedH2OCostEly = en.value(m.pFeedH2OCostEly)\n",
    "pCapCostH2Comp = en.value(m.pCapCostH2Comp)\n",
    "pFOMCostH2Comp = en.value(m.pFOMCostH2Comp)\n",
    "pCompSpecPower = en.value(m.pCompSpecPower)\n",
    "pCapCostH2st = en.value(m.pCapCostH2st)\n",
    "pFOMCostH2st = en.value(m.pFOMCostH2st)\n",
    "pH2kgpertank = en.value(m.pH2kgpertank)\n",
    "\n",
    "param_dict = {'pCCF': pCCF,\n",
    "              'pH2DesignFlowRate': pH2DesignFlowRate,\n",
    "              'pCFPlantLB': pCFPlantLB,\n",
    "              'pH2LHV': pH2LHV,\n",
    "              'pProductionSlackCost': pProductionSlackCost, \n",
    "              'pCapCostPV': pCapCostPV, \n",
    "              'pFOMCostPV': pFOMCostPV, \n",
    "              'pVOMCostPV': pVOMCostPV, \n",
    "              'pInvEff': pInvEff, \n",
    "              'pCapCostInv': pCapCostInv, \n",
    "              'pStEffChg': pStEffChg,\n",
    "              'pStEffDischg': pStEffDischg, \n",
    "              'pCapCostPowSt': pCapCostPowSt, \n",
    "              'pCapCostEnergySt': pCapCostEnergySt,\n",
    "              'pStEffChg': pStEffChg, \n",
    "              'pFOMCostSt': pFOMCostSt, \n",
    "              'pVOMCostSt': pVOMCostSt,\n",
    "              'pDur_UB': pDur_UB, \n",
    "              'pElySpecPower': pElySpecPower,\n",
    "              'pCapCostEly': pCapCostEly, \n",
    "              'pFOMCostEly': pFOMCostEly, \n",
    "              'pVOMCostEly': pVOMCostEly, \n",
    "              'pFeedH2OCostEly': pFeedH2OCostEly, \n",
    "              'pCapCostH2Comp': pCapCostH2Comp, \n",
    "              'pFOMCostH2Comp': pFOMCostH2Comp, \n",
    "              'pCompSpecPower': pCompSpecPower, \n",
    "              'pCapCostH2st': pCapCostH2st, \n",
    "              'pFOMCostH2st': pFOMCostH2st, \n",
    "              'pH2kgpertank': pH2kgpertank}\n",
    "\n",
    "df_Param = pd.DataFrame(param_dict, index=['value']).T"
   ]
  },
  {
   "cell_type": "code",
   "execution_count": null,
   "id": "70614042",
   "metadata": {},
   "outputs": [],
   "source": [
    "df_Param"
   ]
  },
  {
   "cell_type": "code",
   "execution_count": null,
   "id": "61b02a10",
   "metadata": {},
   "outputs": [],
   "source": [
    "df_DecisionVar.tail().T"
   ]
  },
  {
   "cell_type": "code",
   "execution_count": null,
   "id": "17401a44",
   "metadata": {},
   "outputs": [],
   "source": [
    "df_DecisionVar.describe().T"
   ]
  },
  {
   "cell_type": "code",
   "execution_count": null,
   "id": "b6fa2d1b",
   "metadata": {},
   "outputs": [],
   "source": [
    "df_DecisionVar[df_DecisionVar['vH2StStatekg'] >=52000].head().T"
   ]
  },
  {
   "cell_type": "code",
   "execution_count": null,
   "id": "af429350",
   "metadata": {},
   "outputs": [],
   "source": [
    "df_DecisionVar.iloc[410:425].T"
   ]
  },
  {
   "cell_type": "code",
   "execution_count": null,
   "id": "e62c573f",
   "metadata": {},
   "outputs": [],
   "source": [
    "plt.figure(figsize=(10, 5))\n",
    "plt.plot([each/10000 for each in df_DecisionVar['vH2StStatekg'].values.tolist()], \n",
    "         label='H2 State (kg/hr) x (1/10000)')\n",
    "plt.plot([each*10 for each in df_DecisionVar['pPVCapFactor'].values.tolist()], label='PV Factor x (10)')\n",
    "plt.plot([each/1000 for each in df_DecisionVar['vH2StflowProd'].values.tolist()], label='H2 Storage (kg/hr) to Prod x (1/1000)')\n",
    "plt.plot([each/1000 for each in df_DecisionVar['vH2flowProd'].values.tolist()], label='H2 Ely to Prod (kg/hr) x (1/1000)')\n",
    "plt.plot([each/1000 for each in df_DecisionVar['vH2flowStorage'].values.tolist()], label='H2 Flow to Storage (kg/hr) x (1/1000)')\n",
    "\n",
    "plt.ylim(0, 15)\n",
    "\n",
    "plt.xlim(100, 200)\n",
    "plt.xlabel('timesteps (hours)')\n",
    "plt.ylabel('Scaled Output (units)')\n",
    "plt.legend()\n",
    "plt.show()"
   ]
  },
  {
   "cell_type": "code",
   "execution_count": null,
   "id": "fd1fe715",
   "metadata": {},
   "outputs": [],
   "source": []
  }
 ],
 "metadata": {
  "kernelspec": {
   "display_name": "Python 3 (ipykernel)",
   "language": "python",
   "name": "python3"
  },
  "language_info": {
   "codemirror_mode": {
    "name": "ipython",
    "version": 3
   },
   "file_extension": ".py",
   "mimetype": "text/x-python",
   "name": "python",
   "nbconvert_exporter": "python",
   "pygments_lexer": "ipython3",
   "version": "3.7.3"
  }
 },
 "nbformat": 4,
 "nbformat_minor": 5
}
